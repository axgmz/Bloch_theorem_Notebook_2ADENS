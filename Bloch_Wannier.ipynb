{
 "cells": [
  {
   "cell_type": "markdown",
   "id": "87666555",
   "metadata": {},
   "source": [
    "# Electrons in a cristal - Bloch's theorem\n",
    "\n",
    "## Crystal\n",
    "\n",
    "An ideal crystal is made of periodic replicas of a structural unit, the **unit cell**. The periodicity is decribed as a **Bravais lattice**, *i.e.*, as multiples of **primitive vectors**:\n",
    "$$ \\vec{R}_i = l_i \\vec{a}_1 + m_i \\vec{a}_2 + n_i \\vec{a}_3$$\n",
    "where $l_i, m_i, n_i$ are integers ($l_i, m_i, n_i \\in \\mathbb{Z}^3$) and $\\vec{a}_1, \\vec{a}_2, \\vec{a}_3$ are the primitive vectors of the unit cell.\n",
    "\n",
    "## Reciprocal lattice\n",
    "\n",
    "For several applications, such as diffraction problems, it can be extremly useful to work in the reciprocal space made of $\\vec{K}$ vectors. For all $\\vec{R}_i$ vectors of the real space lattice,\n",
    "$$e^{i\\vec{K}\\cdot\\vec{R}_i} = 1$$\n",
    "\n",
    "It means a plane wave $e^{i\\vec{K}\\cdot\\vec{r}}$ with the wavevector $\\vec{K}$ has the same periodicity as the crystal. Here we will see that the reciprocal lattice is of key interest in the study of electronic structure of crystals.\n",
    "\n",
    "It is a Bravais lattice with primitive vectors $\\vec{b}_i, i\\in\\{1,2,3\\}$ verifying\n",
    "$$\\vec{b}_i\\cdot\\vec{a}_j = 2\\pi\\delta_{ij}$$\n",
    "\n",
    "One can show that $\\vec{b}_i$ vectors satisfying this property write as:\n",
    "$$\\vec{b}_1 = 2\\pi\\dfrac{\\vec{a}_2\\wedge\\vec{a}_3}{V}$$\n",
    "$$\\vec{b}_2 = 2\\pi\\dfrac{\\vec{a}_3\\wedge\\vec{a}_1}{V}$$\n",
    "$$\\vec{b}_3 = 2\\pi\\dfrac{\\vec{a}_1\\wedge\\vec{a}_2}{V}$$\n",
    "where $V$ is the volume of the unit cell: $V = \\vec{a}_1\\cdot(\\vec{a}_2\\wedge\\vec{a}_3)$\n",
    "\n",
    "## Brillouin zone\n",
    "\n",
    "The Brillouin zone is a primitive cell of the reciprocal lattice defined as all the points closer to the $\\Gamma$-point -- the origin $\\vec{0}$ of the reciprocal lattice -- than from any other $\\vec{K}$ vector.\n",
    "Its volume is $\\dfrac{(2\\pi)^3}{V}$.\n",
    "\n",
    "## Bloch's theorem\n",
    "\n",
    "Let's consider eigenvectors $\\psi(\\vec{r})$ of the one-electron hamiltonian $\\hat{H}$:\n",
    "$$\\hat{H} = -\\dfrac{\\hbar^2}{2m}\\vec{\\nabla}^2 + U(\\vec{r})$$\n",
    "\n",
    "where $U(\\vec{r})$ is a potential with the same periodicity as the Bravais lattice:\n",
    "$$\\forall \\vec{R} \\text{ of the Bravais lattice, }U(\\vec{r}+\\vec{R}) = U(\\vec{r})$$\n",
    "\n",
    "Then, Bloch's theorem states that $\\psi(\\vec{r})$ writes:\n",
    "$$\\psi(\\vec{r}) = e^{i\\vec{k}\\cdot\\vec{r}} u_{\\vec{k}}(\\vec{r})$$\n",
    "with $u_{\\vec{k}}(\\vec{r})$ a function with the same periodicity:\n",
    "$$\\forall \\vec{R} \\text{ of the Bravais lattice, }u_{\\vec{k}}(\\vec{r}+\\vec{R}) = u_{\\vec{k}}(\\vec{r})$$"
   ]
  },
  {
   "cell_type": "markdown",
   "id": "0e17937b",
   "metadata": {},
   "source": [
    "### Proof\n",
    "\n",
    "For a lattice vector $\\vec{R}$, we introduce the translation operator $\\hat{T}_{\\vec{R}}$:\n",
    "$$\\hat{T}_{\\vec{R}}\\psi(\\vec{r}) = \\psi(\\vec{r}+\\vec{R})$$\n",
    "\n",
    "As $U(\\vec{r})$ is periodic, the hamiltonian is translational-invariant. Then $\\hat{H}$ and $\\hat{T}_{\\vec{R}}$ commute.\n",
    "\n",
    "**Q1/** Show that $\\hat{T}_{\\vec{R}}\\hat{T}_{\\vec{R}'} = \\hat{T}_{\\vec{R}+\\vec{R}'}$"
   ]
  },
  {
   "cell_type": "code",
   "execution_count": null,
   "id": "0eb93101-c1c2-46d2-b9a2-0f915627f6c1",
   "metadata": {},
   "outputs": [],
   "source": []
  },
  {
   "cell_type": "markdown",
   "id": "fe819055",
   "metadata": {},
   "source": [
    "$\\hat{T}_\\vec{R}$ is a representation of the group of translations of vector $ \\vec{R}$."
   ]
  },
  {
   "cell_type": "markdown",
   "id": "412385d5",
   "metadata": {},
   "source": [
    "As $\\hat{H}$ and $\\hat{T}_\\vec{R}$ commute, it is possible to choose *common eigenvectors*:\n",
    "\\begin{eqnarray}\n",
    "\\hat{H}\\psi(\\vec{r}) = & \\epsilon & \\psi(\\vec{r})\\\\\n",
    "\\hat{T}_\\vec{R}\\psi(\\vec{r}) = & c(\\vec{R}) & \\psi(\\vec{r})\n",
    "\\end{eqnarray}"
   ]
  },
  {
   "cell_type": "markdown",
   "id": "8771aece",
   "metadata": {},
   "source": [
    "**Q2/** Show that the eigenvalues $c$ of the translation operator satisfy:\n",
    "$$c(\\vec{R}+\\vec{R}') = c(\\vec{R})\\times c(\\vec{R}')$$"
   ]
  },
  {
   "cell_type": "code",
   "execution_count": null,
   "id": "dead2a93-98a9-4c2b-bd49-62c54e01bd97",
   "metadata": {},
   "outputs": [],
   "source": []
  },
  {
   "cell_type": "markdown",
   "id": "cca8d6b1",
   "metadata": {},
   "source": [
    "**Q3/** Show that a function $u_\\vec{k}(\\vec{r}) = e^{-i\\vec{k}\\cdot\\vec{r}}\\psi(\\vec{r})$ has the same periodicity as the Bravais lattice."
   ]
  },
  {
   "cell_type": "code",
   "execution_count": null,
   "id": "5b53d654-5e18-4771-b61e-01b28e58e845",
   "metadata": {},
   "outputs": [],
   "source": []
  },
  {
   "cell_type": "markdown",
   "id": "d4b7b162",
   "metadata": {},
   "source": [
    "This achieves the proof of Bloch's theorem!"
   ]
  },
  {
   "cell_type": "markdown",
   "id": "9aafbda4",
   "metadata": {},
   "source": [
    "### Additional remarks"
   ]
  },
  {
   "cell_type": "markdown",
   "id": "4bad1973",
   "metadata": {},
   "source": [
    "1. $\\vec{k}$ can always be chosen in the Brillouin zone.\n",
    "\n",
    "If $\\vec{K}$ is any vector of the reciprocal lattice and $u(\\vec{r}$ is a periodic function, then $e^{i\\vec{K}\\cdot\\vec{r}}u(\\vec{r})$ is periodic. So we can shift $\\vec{k}$ towards the Brillouin zone using the appropriate $\\vec{K}$ and writing:\n",
    "$$e^{i(\\vec{k}+\\vec{K})\\cdot\\vec{r}} u(\\vec{r}) = e^{i\\vec{k}\\cdot\\vec{r}}\\times e^{i\\vec{K}\\cdot\\vec{r}}u(\\vec{r})$$\n",
    "\n",
    "2. We consider a Bloch state $\\psi_\\vec{k}(\\vec{r}) = e^{i\\vec{k}\\cdot\\vec{r}}u_\\vec{k}(\\vec{r})$, eigenvector for the hamiltonian $\\hat{H}$:\n",
    "$$\\hat{H}\\psi_\\vec{k}(\\vec{r}) = \\epsilon(\\vec{k})\\psi_\\vec{k}(\\vec{r})$$\n",
    "\n",
    "We can write,\n",
    "\\begin{eqnarray}\n",
    "\\hat{H}e^{i\\vec{k}\\cdot\\vec{r}}u_\\vec{k}(\\vec{r}) = & -\\dfrac{\\hbar^2}{2m}\\vec{\\nabla}^2e^{i\\vec{k}\\cdot\\vec{r}}u_\\vec{k}(\\vec{r}) + U(\\vec{r})e^{i\\vec{k}\\cdot\\vec{r}}u_\\vec{k}(\\vec{r})\\\\\n",
    "= & e^{i\\vec{k}\\cdot\\vec{r}} \\left[ \\dfrac{\\hbar^2}{2m}(-i\\vec{\\nabla}^2 + \\vec{k}) + U(\\vec{r}) \\right]u_\\vec{k}(\\vec{r})\n",
    "\\end{eqnarray}\n",
    "\n",
    "Then, $u_\\vec{k}(\\vec{r})$ is an eigenvector of $\\hat{H}_\\vec{k}$ with the eigenvalue $\\epsilon(\\vec{k})$ where\n",
    "$$\\hat{H}_\\vec{k} = \\dfrac{\\hbar^2}{2m}(-i\\vec{\\nabla}^2 + \\vec{k}) + U(\\vec{r})$$\n",
    "\n",
    "Since $u_\\vec{k}(\\vec{r})$ is periodic, the hamiltonian $\\hat{H}_\\vec{k}$ has usually discrete eigenvalues. We use the integer $n$ to order them:\n",
    "$$\\hat{H}_\\vec{k}u_{n,\\vec{k}}(\\vec{r}) = \\epsilon_n(\\vec{k})u_{n,\\vec{k}}(\\vec{r})$$\n",
    "which is the same as\n",
    "$$\\hat{H}\\psi_{n,\\vec{k}}(\\vec{r}) = \\epsilon_n(\\vec{k})\\psi_{n,\\vec{k}}(\\vec{r})$$\n",
    "with $$\\psi_{n,\\vec{k}} = e^{i\\vec{k}\\cdot\\vec{r}}u_{n,\\vec{k}}(\\vec{r})$$\n",
    "\n",
    "3. Although $\\vec{k}$ can always be chosen within the Brillouin zone, the eigenvalues $\\epsilon_n(\\vec{k})$ are usually periodically replicated on the whole reciprocal space:\n",
    "\n",
    "For any reciprocal lattice vector $\\vec{K}$,$$\\epsilon_n(\\vec{k}+\\vec{K}) = \\epsilon_n(\\vec{k})$$\n",
    "\n",
    "4. As we expect $\\epsilon_n(\\vec{k})$ to be continuous with $\\vec{k}$, then $\\epsilon_n(\\vec{k})$ necessarily admits a minimum and a maximum. We can then talk of an **energy band**."
   ]
  },
  {
   "cell_type": "markdown",
   "id": "75112e7a-6cc7-4744-96a8-bfe9ce066079",
   "metadata": {},
   "source": [
    "## 1D application to polyacetylene\n",
    "\n",
    "### Modelling\n",
    "\n",
    "We consider an ideal 1D polymere such as polyacetylene which is made of $N$ periodic replicas of the $(CH_2=CH_2-)$ unit. To make it a general 1D model, we will name A and B the groups of atoms in the unit cell. Thus the model can be polyacetylene but also boron nitride BN or any kind of substituted polyacetylene, $ (CH_2=CCl_2-)$ for example. We will only consider the $p_z$ electrons of A and B. This means they are $2$ active electron per unit cell, 1 per group (A and B). We use $d$ for the length of the unit cell in real space.\n",
    "\n",
    "#### Interactions between atom groups\n",
    "\n",
    "We name $\\left\\vert A,n\\right>$ and $\\left\\vert B,n\\right>$ the $p_z$ orbital on respectively A and B in the $n^\\mathrm{th}$ cell. We use in this exemple the tight-binding model which is similar to the Hückel model. The groups A and B interact only with neighboring groups:\n",
    "$$\\left< A,n\\right\\vert\\hat{H}\\left\\vert A,m\\right> = \\alpha_1\\delta_{n,m}$$\n",
    "$$\\left< B,n\\right\\vert\\hat{H}\\left\\vert B,m\\right> = \\alpha_2\\delta_{n,m}$$\n",
    "$$\\left< A,n\\right\\vert\\hat{H}\\left\\vert B,m\\right> = \\beta_1\\delta_{n,m}$$\n",
    "$$\\left< B,n\\right\\vert\\hat{H}\\left\\vert A,m\\right> = \\beta_2\\delta_{n,m-1}$$\n",
    "\n",
    "where $\\alpha_1$ and $\\alpha_2$ are the energies of the $p_z$ orbital of A and B (resp.) and $\\beta_1$ and $\\beta_2$ quantify the coupling between neighboring A and B groups.\n",
    "\n",
    "### Brillouin zone"
   ]
  },
  {
   "cell_type": "markdown",
   "id": "43bd16cf-7144-49f3-886f-dc6cc1ebdfe5",
   "metadata": {},
   "source": [
    "**Q4/** What is the length of the unit cell in reciprocal space? What is a vector $\\vec{k}$ in the Brillouin zone?"
   ]
  },
  {
   "cell_type": "code",
   "execution_count": null,
   "id": "9eff0393-d543-475c-9224-6f17d7775928",
   "metadata": {},
   "outputs": [],
   "source": []
  },
  {
   "cell_type": "markdown",
   "id": "f3c90f89-68da-4cf9-bf7a-6d78fb1c9e16",
   "metadata": {},
   "source": [
    "### Cristal orbitals\n",
    "\n",
    "An electronic orbital for this system reads as a linear combination of the $p_z$ orbitals:\n",
    "$$\\left\\vert\\Psi\\right> = \\dfrac{1}{\\sqrt{N}}\\sum_n\\left( c_n\\left\\vert A,n\\right> + d_n\\left\\vert B,n\\right>\\right)$$"
   ]
  },
  {
   "cell_type": "markdown",
   "id": "8a37cf0e-fb17-4a13-90a1-6b85f7acb641",
   "metadata": {},
   "source": [
    "**Q5/** As $\\left\\vert\\Psi\\right>$ is normalized, write the condition on the $c_n$ and $d_n$ coefficients."
   ]
  },
  {
   "cell_type": "code",
   "execution_count": null,
   "id": "f7a78294-7b92-4e32-81c9-a0755c77ffb5",
   "metadata": {},
   "outputs": [],
   "source": []
  },
  {
   "cell_type": "markdown",
   "id": "b712e70b-fcc2-4ee0-9df4-5810aafc00f5",
   "metadata": {},
   "source": [
    "After Bloch's theorem, the eigenstates of the hamiltonien $\\hat{H}$ of this system reads\n",
    "$$\\left\\vert\\Psi_k\\right> = \\dfrac{1}{\\sqrt{N}}\\sum_n e^{ikdn}c(k)\\left\\vert A,n\\right> + e^{ikd(n+\\frac{1}{2})}d(k)\\left\\vert B,n\\right>$$\n",
    "where $-\\dfrac{\\pi}{d}<k<\\dfrac{\\pi}{d}$. The periodic orbital is:\n",
    "$$\\left\\vert u_k\\right> = \\dfrac{1}{\\sqrt{N}}\\sum_n c(k)\\left\\vert A,n\\right> + d(k)\\left\\vert B,n\\right>$$\n",
    "\n",
    "NB: This definition means that the group B is in the middle of the cell (at $d/2$ from A). Any other translation is equivalent, they are simply different definitions of $c(k)$ and $d(k)$.\n",
    "\n",
    "### Solution of the time-independent Schrödinger equation\n",
    "\n",
    "$\\left\\vert\\Psi_k\\right>$ is solution of the time-independent Schrödinger equation:\n",
    "$$\\hat{H}\\left\\vert\\Psi_k\\right> = \\epsilon(k)\\left\\vert\\Psi_k\\right>$$"
   ]
  },
  {
   "cell_type": "markdown",
   "id": "51311d65-7716-4866-ab1a-5bc70a6bcf00",
   "metadata": {},
   "source": [
    "**Q6/** Using the model described previously, compute $\\hat{H}\\left\\vert A,n\\right>$ and $\\hat{H}\\left\\vert B,n\\right>$."
   ]
  },
  {
   "cell_type": "code",
   "execution_count": null,
   "id": "c8aa91fc-76f4-4aeb-bab7-600d2d9664c9",
   "metadata": {},
   "outputs": [],
   "source": []
  },
  {
   "cell_type": "markdown",
   "id": "0cea4a4f-d04a-4bf6-865d-e825edf27738",
   "metadata": {},
   "source": [
    "**Q7/** Simplify $\\hat{H}\\left\\vert\\Psi_k\\right>$."
   ]
  },
  {
   "cell_type": "code",
   "execution_count": null,
   "id": "6107f421-7261-45f2-a0b8-477c5cb16aff",
   "metadata": {},
   "outputs": [],
   "source": []
  },
  {
   "cell_type": "markdown",
   "id": "23d48f15-fcf8-4bb4-914a-4137783a1dd7",
   "metadata": {},
   "source": [
    "It follows that:\n",
    "$$\\hat{H}_k\\left\\vert u_k\\right> = \\dfrac{1}{\\sqrt{N}}\\sum_n \\left( \\alpha_1 c(k) + e^{ikd/2} \\beta_1 d(k) + e^{-ikd/2} \\beta_2 d(k)\\right) \\left\\vert A,n \\right> + \\left( e^{-ikd/2} \\beta_1 c(k) + e^{ikd/2} \\beta_2 c(k) + \\alpha_2 d(k) \\right) \\left\\vert B,n \\right> = \\epsilon(k)\\left\\vert u_k\\right>$$\n",
    "\n",
    "We choose to represent $\\left\\vert u_k\\right>$ as the vector $\\begin{pmatrix} c(k)\\\\d(k)\\end{pmatrix}$ which verifies the equation in \"$n$-representation\"\n",
    "$$H_k\\begin{pmatrix} c(k)\\\\d(k)\\end{pmatrix} = \\begin{pmatrix} \\alpha_1 & e^{ikd/2}\\beta_1 + e^{-ikd/2}\\beta_2\\\\ e^{-ikd/2}\\beta_1 + e^{ikd/2}\\beta_2 & \\alpha_2\\end{pmatrix}\\begin{pmatrix} c(k)\\\\d(k)\\end{pmatrix} = \\epsilon(k)\\begin{pmatrix} c(k)\\\\d(k)\\end{pmatrix}\\tag{E1}$$\n",
    "\n",
    "### Eigenvalues and band structure\n",
    "\n",
    "An exact solution for the eigenvalues of the $2\\times 2$ matrix can be found:\n",
    "\\begin{eqnarray}\n",
    "&\\epsilon_+(k) & = & \\frac{\\alpha_1 + \\alpha_2}{2} + \\sqrt{\\frac{(\\alpha_1-\\alpha_2)^2}{4}+(\\beta_1^2+\\beta_2^2+2 \\beta_1\\beta_2 \\cos kd)}\\\\\n",
    "\\mathrm{and}&\\\\\n",
    "&\\epsilon_-(k) & = & \\frac{\\alpha_1 + \\alpha_2}{2} - \\sqrt{\\frac{(\\alpha_1-\\alpha_2)^2}{4}+(\\beta_1^2+\\beta_2^2+2 \\beta_1\\beta_2 \\cos kd)}\n",
    "\\end{eqnarray}\n",
    "\n",
    "This means that in general the electrons of the system are in two bands $\\epsilon_+(k)$ and $\\epsilon_-(k)$ which are continuous functions of $k$."
   ]
  },
  {
   "cell_type": "markdown",
   "id": "65597c66-7020-4ad8-abeb-35078153ffcd",
   "metadata": {},
   "source": [
    "### Numerical application"
   ]
  },
  {
   "cell_type": "code",
   "execution_count": null,
   "id": "63a23577-ad9a-4ef2-be69-24b490288774",
   "metadata": {},
   "outputs": [],
   "source": [
    "# required modules\n",
    "\n",
    "import numpy as np\n",
    "import matplotlib.pyplot as plt\n",
    "from wannier_toolbox import *"
   ]
  },
  {
   "cell_type": "markdown",
   "id": "61c4cd28-3d72-4083-8e8f-ea2968ca5d76",
   "metadata": {},
   "source": [
    "**Q8/** Define the $H_k$ 2x2 matrix by filling the following function:"
   ]
  },
  {
   "cell_type": "code",
   "execution_count": null,
   "id": "ee98d0c7-1c55-48fc-aa85-8f15d00e63a4",
   "metadata": {},
   "outputs": [],
   "source": [
    "def hamiltonian(alpha1,alpha2,beta1,beta2,d,k):\n",
    "    ham = np.zeros((2,2),dtype=complex)\n",
    "    ...\n",
    "    return ham"
   ]
  },
  {
   "cell_type": "code",
   "execution_count": null,
   "id": "165121f6-843f-41d0-a49d-1eab7c905c58",
   "metadata": {},
   "outputs": [],
   "source": [
    "# parameters for numerical calculations\n",
    "\n",
    "d = 2\n",
    "alpha1, alpha2 = -1.0, -1.0\n",
    "beta1, beta2 = -1.0, -1.0\n",
    "\n",
    "N = 20 # number of k-points"
   ]
  },
  {
   "cell_type": "code",
   "execution_count": null,
   "id": "2cd0ef86-b8fa-4dab-877e-3e689701ed49",
   "metadata": {},
   "outputs": [],
   "source": [
    "# k-space\n",
    "kpt = np.linspace(-np.pi/d, np.pi/d, N+1)"
   ]
  },
  {
   "cell_type": "code",
   "execution_count": null,
   "id": "61f25835-6983-406a-a580-0f18e3274410",
   "metadata": {},
   "outputs": [],
   "source": [
    "# exact solution\n",
    "\n",
    "def eplus(k,alpha1,alpha2,beta1,beta2,d):\n",
    "    return (alpha1+alpha2)/2 + np.sqrt((alpha1-alpha2)**2/4+(beta1**2+beta2**2+2*beta1*beta2*np.cos(k*d)))\n",
    "\n",
    "def eminus(k,alpha1,alpha2,beta1,beta2,d):\n",
    "    return (alpha1+alpha2)/2 - np.sqrt((alpha1-alpha2)**2/4+(beta1**2+beta2**2+2*beta1*beta2*np.cos(k*d)))"
   ]
  },
  {
   "cell_type": "markdown",
   "id": "92fe4360-7152-4748-aefa-d716d29e0d8f",
   "metadata": {},
   "source": [
    "**Q9/** Solve numerically the equation (E1)."
   ]
  },
  {
   "cell_type": "code",
   "execution_count": null,
   "id": "a4e48b58-06bd-4ec0-a472-d09b09f6c812",
   "metadata": {},
   "outputs": [],
   "source": []
  },
  {
   "cell_type": "markdown",
   "id": "b4bd43e6-e26d-4cc4-bd5c-5d1819913933",
   "metadata": {},
   "source": [
    "**Q10/** Plot and compare the exact and numerical solutions."
   ]
  },
  {
   "cell_type": "code",
   "execution_count": null,
   "id": "18761cab-16b6-45bf-bbc7-6bd77481ea8e",
   "metadata": {},
   "outputs": [],
   "source": []
  },
  {
   "cell_type": "markdown",
   "id": "c7a280be-36ff-4712-bffb-25906878e269",
   "metadata": {},
   "source": [
    "### Periodic boundary conditions\n",
    "\n",
    "We now have a good idea the energy levels for this system. The next logical step is to find out whether they are occupied or not.\n",
    "\n",
    "At $T=0~\\mathrm{K}$ and with the help of Fermi-Dirac statistics, one can say that levels with energies smaller than Fermi energy are occupied by $2s + 1$ electrons where $s$ is the spin ($s = \\frac{1}{2}$). Thus, the Fermi energy only depends on the total number of electrons in the cristal. Similarly to the ideal electron gas, we therefore need to consider the boundary conditions.\n",
    "\n",
    "Let's consider a cristal with $N_1$ unit cells along $\\vec{a}_1$, $N_2$ along $\\vec{a}_2$ and $N_3$ along $\\vec{a}_3$. This system has $N=N_1\\times N_2\\times N_3$ cells and a total volume $V_{tot} = N\\times V$ where $V$ is the volume of the unit cell.\n",
    "\n",
    "Periodic boundary conditions state that:\n",
    "$$\\forall i\\in\\{ 1,2,3\\}, \\Psi(\\vec{r}+N_i\\vec{a}_i) = \\Psi(\\vec{r})$$"
   ]
  },
  {
   "cell_type": "markdown",
   "id": "83f06087-5620-4a40-b449-f574df8fc311",
   "metadata": {},
   "source": [
    "**Q11/** Show that it implies that $\\vec{k}$ reads\n",
    "$$\\vec{k} = \\sum_{i=1}^3\\dfrac{m_i}{N_i}\\vec{b}_i$$\n",
    "with $(m_1, m_2, m_3) \\in \\mathbb{Z}^3$."
   ]
  },
  {
   "cell_type": "code",
   "execution_count": null,
   "id": "d2fd9a75-9801-4211-b8a5-39c45f07d7a8",
   "metadata": {},
   "outputs": [],
   "source": []
  },
  {
   "cell_type": "markdown",
   "id": "1d910593-d1fd-412c-a0a0-fdf1550ee390",
   "metadata": {},
   "source": [
    "The reciprocal space unit cell volume can then be computed:\n",
    "\\begin{eqnarray}\n",
    "\\Delta^3\\vec{k} & = & \\dfrac{\\vec{b}_1}{N_1}\\cdot(\\dfrac{\\vec{b}_2}{N_2}\\wedge\\dfrac{\\vec{b}_3}{N_3}\\\\\n",
    "& = & \\dfrac{1}{N}\\vec{b}_1\\cdot (\\vec{b}_2\\wedge\\vec{b}_3)\\\\\n",
    "& = & \\dfrac{(2\\pi)^3}{NV} = \\dfrac{(2\\pi)^3}{V_{tot}}\n",
    "\\end{eqnarray}\n",
    "\n",
    "In the thermodynamic limit, we can replace the sum on $\\vec{k}$ for an integral:\n",
    "$$\\sum_{\\vec{k}}\\rightarrow\\int\\mathrm{d}^3\\vec{k}\\dfrac{V_{tot}}{(2\\pi)^3}$$\n",
    "\n",
    "With $f(\\epsilon)$ the Fermi function, the number of electrons in band $n$ is\n",
    "$$N_n = (2s + 1)\\int\\mathrm{d}^3\\vec{k}\\dfrac{V_{tot}}{(2\\pi)^3}f(\\epsilon_n(\\vec{k}))$$\n",
    "And the number of electrons per cell is\n",
    "$$\\dfrac{N_n}{N} = (2s+1)\\dfrac{V}{(2\\pi)^3}\\int\\mathrm{d}^3\\vec{k}f(\\epsilon_n(\\vec{k}))$$\n",
    "\n",
    "The maximal number of electrons per cell can be find if $\\forall n,\\vec{k}, f(\\epsilon_n(\\vec{k})) = 1$ which means that all bands are fully occupied. This gives\n",
    "$$\\dfrac{N_n}{N} = 2$$\n",
    "Similarly to molecular orbitals, bands are filled with a maximum of $2$ electrons per cell.\n",
    "\n",
    "As for polyacetylene, the band $\\epsilon_-(\\vec{k})$ is fully occupied and the band $\\epsilon_+(\\vec{k})$ is empty."
   ]
  },
  {
   "cell_type": "markdown",
   "id": "0a7d89e7-7a1b-44a1-a36c-cce0c4a783eb",
   "metadata": {},
   "source": [
    "**Q12/** Play with the model parameters $\\alpha_1,\\alpha_2,\\beta_1,\\beta_2$ to understand and illustrate the ideas of insulation and conduction in metals"
   ]
  },
  {
   "cell_type": "code",
   "execution_count": null,
   "id": "8d53caa8-2d90-42fd-a4a9-f5beb51e7756",
   "metadata": {},
   "outputs": [],
   "source": []
  },
  {
   "cell_type": "markdown",
   "id": "9df18f72-75b4-498a-8b07-6d6ee839c22c",
   "metadata": {
    "tags": []
   },
   "source": [
    "### Bloch states: phase and representation\n",
    "\n",
    "The $2\\times 2$ eigenvectors matrix of $H_k$ gives $c(k)$ and $d(k)$ for each band (one band per column) which is a representation of $\\left\\vert u_{n,k}\\right>$. The phase of these complex numbers can be freely chosen as long as it verifies the condition $\\vert c(k)\\vert^2+\\vert d(k)\\vert^2 = 1$:\n",
    "$$c(k) \\rightarrow e^{i\\varphi(k)}c(k) \\qquad \\text{and} \\qquad d(k) \\rightarrow e^{i\\varphi(k)}d(k)$$\n",
    "\n",
    "Since $H_k\\in\\mathcal{M}_{2,2}^\\mathbb{C}$, it may not be possible to find a $\\varphi(k)$ such as both $c(k)$ and $d(k)$ are real numbers. In the following we choose $\\varphi(k)$ so $c(k)\\in\\mathbb{R}$."
   ]
  },
  {
   "cell_type": "code",
   "execution_count": null,
   "id": "85f2c49b-8f07-4678-ac19-75b119a81f97",
   "metadata": {},
   "outputs": [],
   "source": [
    "N=10\n",
    "\n",
    "ck=np.zeros((N+1,2),dtype=complex)\n",
    "dk=np.zeros((N+1,2),dtype=complex)\n",
    "eps=np.zeros((N+1,2))\n",
    "phi=np.zeros((N+1,2))\n",
    "kpt=np.linspace(-np.pi/2,np.pi/2,N+1)"
   ]
  },
  {
   "cell_type": "code",
   "execution_count": null,
   "id": "d9077708-b2d6-4289-869c-4eb4f14cd4d1",
   "metadata": {},
   "outputs": [],
   "source": [
    "for ik, k in enumerate(kpt):\n",
    "    H = hamiltonian(alpha1,alpha2,beta1,beta2,d,k)\n",
    "    e,v = np.linalg.eigh(H)\n",
    "    eps[ik,:] = e\n",
    "    phi[ik,:] = np.angle(v[0,:]) # angle of the complex number c(k) in the complex plane\n",
    "    ck[ik,:] = v[0,:]*np.exp(-1j*phi[ik,:])\n",
    "    dk[ik,:] = v[1,:]*np.exp(-1j*phi[ik,:])"
   ]
  },
  {
   "cell_type": "markdown",
   "id": "d8106cc4-416f-48f2-99fd-a881b2f45b83",
   "metadata": {},
   "source": [
    "The true Bloch states are not really the $\\left\\vert u_{n,k}\\right>$ but rather the wavefunctions $\\left\\vert\\Psi_{n,k}\\right>$ as shown previously which has a periodicity of $N$ cells so it will be represented on these cells:"
   ]
  },
  {
   "cell_type": "code",
   "execution_count": null,
   "id": "9d98f46c-a610-493a-b830-9af809fcddbd",
   "metadata": {},
   "outputs": [],
   "source": [
    "x = np.linspace(0,(2*N-1)*d/2,2*N) # positions of A and B\n",
    "\n",
    "ik = 6 # select the wavevector\n",
    "print(f\"For a k-point k = {kpt[ik]/np.pi:.2f}π\")\n",
    "\n",
    "band = 0 # choose the band, 0 = lower energy, 1 = higher energy\n",
    "\n",
    "Psi = np.zeros(2*N,dtype=complex)\n",
    "\n",
    "for cell in range(N):\n",
    "    Psi[2*cell] = ck[ik,band]*np.exp(1j*kpt[ik]*x[2*cell])\n",
    "    Psi[2*cell+1] = dk[ik,band]*np.exp(1j*kpt[ik]*x[2*cell+1])\n",
    "\n",
    "plt.bar(x,np.real(Psi))\n",
    "plt.xlabel(\"x\")\n",
    "plt.ylabel(\"Re(Psi)\")\n",
    "plt.show()\n",
    "\n",
    "plt.bar(x,np.imag(Psi))\n",
    "plt.xlabel(\"x\")\n",
    "plt.ylabel(\"Im(Psi)\")\n",
    "plt.show()"
   ]
  },
  {
   "cell_type": "markdown",
   "id": "1f426533-7650-4d62-a52a-a04784a030c6",
   "metadata": {
    "tags": []
   },
   "source": [
    "# Unitary transform\n",
    "\n",
    "Given a set of Bloch states $\\left\\vert\\Psi_{n,\\vec{k}}(\\vec{r})\\right>$ for a band $n$, a unitary transform $U^\\vec{k}$ of this set:\n",
    "$$\\Psi_{n,\\vec{k}} \\mapsto U^\\vec{k}\\Psi_{n,\\vec{k}}$$\n",
    "is a valid wavefunction.\n",
    "\n",
    "Any combination of these generalised Bloch states is also a valid wavefunction:\n",
    "$$\\psi_{n}(\\vec{r}) = \\dfrac{1}{\\sqrt{N}}\\sum_{\\vec{k}}U^\\vec{k}\\Psi_{n,\\vec{k}}(\\vec{r})$$\n",
    "\n",
    "## Wannier functions\n",
    "\n",
    "Wannier functions are such a combination of Bloch states:\n",
    "\n",
    "Given Bloch states $\\vert \\Psi_{n,\\vec{k}} (\\vec{r}\\left.)\\right>$ for a band $n$, the Wannier functions are defined by\n",
    "$$\\phi_{n,\\vec{R}}(\\vec{r}) = \\dfrac{1}{\\sqrt{N}}\\sum_\\vec{k}e^{-i\\vec{k}\\cdot\\vec{R}}\\Psi_{n,\\vec{k}}(\\vec{r})$$\n",
    "where $\\vec{R}$ are vectors of the Bravais lattice.\n",
    "\n",
    "**Q13/** Using the function *wannier*, plot the wannier functions for atoms A and B at a position $\\vec{r}$ in the supercell."
   ]
  },
  {
   "cell_type": "markdown",
   "id": "abeb1b52-f472-4eb5-9246-f698703ba92e",
   "metadata": {},
   "source": [
    "*Reminder*: in python, help(fc) can be used to get informations on the use of a function fc"
   ]
  },
  {
   "cell_type": "code",
   "execution_count": null,
   "id": "e8742983-ace6-42d0-b069-e3e7196cfa8e",
   "metadata": {},
   "outputs": [],
   "source": []
  },
  {
   "cell_type": "markdown",
   "id": "3a2a7f74-8c25-4d96-8563-4a0e073c6fe0",
   "metadata": {
    "tags": []
   },
   "source": [
    "## Maximally localised Wannier orbitals\n",
    "\n",
    "Maximally localised Wannier orbitals are unitary transformed Wannier functions by tuning the phase.\n",
    "\n",
    "**Q14/** Using the function *wannierML*, plot the maximally localised Wannier orbitals for atoms A and B at a position $\\vec{r}$ in the supercell."
   ]
  },
  {
   "cell_type": "code",
   "execution_count": null,
   "id": "25a970b9-03f5-4576-8208-255e997a79f1",
   "metadata": {},
   "outputs": [],
   "source": []
  },
  {
   "cell_type": "markdown",
   "id": "32206158-a421-4787-ba97-be583cce531d",
   "metadata": {
    "tags": []
   },
   "source": [
    "## Wavefunctions and molecular orbitals\n",
    "\n",
    "**Q15/** Using the previously computed Wannier functions and the definition of a unitary transform, redefine the concept of molecular orbitals"
   ]
  },
  {
   "cell_type": "code",
   "execution_count": null,
   "id": "fcca22b5-f740-46e0-8d82-0c7ac166b97e",
   "metadata": {},
   "outputs": [],
   "source": []
  }
 ],
 "metadata": {
  "kernelspec": {
   "display_name": "Python 3 (ipykernel)",
   "language": "python",
   "name": "python3"
  },
  "language_info": {
   "codemirror_mode": {
    "name": "ipython",
    "version": 3
   },
   "file_extension": ".py",
   "mimetype": "text/x-python",
   "name": "python",
   "nbconvert_exporter": "python",
   "pygments_lexer": "ipython3",
   "version": "3.8.12"
  }
 },
 "nbformat": 4,
 "nbformat_minor": 5
}
