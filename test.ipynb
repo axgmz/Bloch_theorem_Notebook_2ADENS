{
 "cells": [
  {
   "cell_type": "markdown",
   "id": "d0244230-cb85-45dc-ae22-86a273188e59",
   "metadata": {},
   "source": [
    "## Test notebook for electronic structure class\n",
    "\n",
    "It aims at verifying your python setup:\n",
    "- The notebook can be opened in either jupyter-notebook or jupyter-lab\n",
    "- Modules numpy and matplotlib are available\n",
    "- The plot is displayed\n",
    "\n",
    "Please run it on your computer before class"
   ]
  },
  {
   "cell_type": "code",
   "execution_count": null,
   "id": "85f2c49b-8f07-4678-ac19-75b119a81f97",
   "metadata": {},
   "outputs": [],
   "source": [
    "# modules\n",
    "\n",
    "import numpy as np\n",
    "import matplotlib.pyplot as plt"
   ]
  },
  {
   "cell_type": "code",
   "execution_count": null,
   "id": "d9077708-b2d6-4289-869c-4eb4f14cd4d1",
   "metadata": {},
   "outputs": [],
   "source": [
    "x=np.linspace(0,3*np.pi,100)\n",
    "y=np.sin(x)"
   ]
  },
  {
   "cell_type": "code",
   "execution_count": null,
   "id": "c1acc911-cc67-410f-a4b7-7888b6f7df02",
   "metadata": {},
   "outputs": [],
   "source": [
    "plt.plot(x,y)\n",
    "plt.xlabel(\"x\")\n",
    "plt.ylabel(\"sin(x)\")\n",
    "plt.show()"
   ]
  }
 ],
 "metadata": {
  "kernelspec": {
   "display_name": "Python 3 (ipykernel)",
   "language": "python",
   "name": "python3"
  },
  "language_info": {
   "codemirror_mode": {
    "name": "ipython",
    "version": 3
   },
   "file_extension": ".py",
   "mimetype": "text/x-python",
   "name": "python",
   "nbconvert_exporter": "python",
   "pygments_lexer": "ipython3",
   "version": "3.8.12"
  }
 },
 "nbformat": 4,
 "nbformat_minor": 5
}
